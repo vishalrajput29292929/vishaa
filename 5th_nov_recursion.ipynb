{
 "cells": [
  {
   "cell_type": "code",
   "execution_count": 5,
   "id": "a49c107e-9d60-4434-9749-d2b4373644fb",
   "metadata": {},
   "outputs": [],
   "source": [
    "#1 Find the val%e of T(2) for the rec%rrence relation T(n) = 3T(n-1) + 12n, given that T(0)=5."
   ]
  },
  {
   "cell_type": "code",
   "execution_count": 6,
   "id": "12d975e3-418f-4606-bbd8-1a9ef3ca2a6a",
   "metadata": {},
   "outputs": [
    {
     "data": {
      "text/plain": [
       "'T(n) = 3T(n-1) + 12n\\nT(n-1) = 3T(n-2) + 12(n-1)\\nT(n) = 9T(n-2) + 36(n-1)+12n\\nT(2) = 9T(0) + 36*1+12*2  \\n\\n =   105'"
      ]
     },
     "execution_count": 6,
     "metadata": {},
     "output_type": "execute_result"
    }
   ],
   "source": [
    "\"\"\"T(n) = 3T(n-1) + 12n\n",
    "T(n-1) = 3T(n-2) + 12(n-1)\n",
    "T(n) = 9T(n-2) + 36(n-1)+12n\n",
    "T(2) = 9T(0) + 36*1+12*2  \n",
    "\n",
    " =   105\"\"\"\n"
   ]
  },
  {
   "cell_type": "code",
   "execution_count": 7,
   "id": "d8e887fc-3075-407c-b629-f1227ad5e60a",
   "metadata": {},
   "outputs": [],
   "source": [
    "#2. Given a rec%rrence relation, solve it %sing the s%bstit%tion method:\n",
    "#a. T(n) = T(n-1) + c"
   ]
  },
  {
   "cell_type": "code",
   "execution_count": 8,
   "id": "6f36e86c-062c-4c3c-9222-332e55645923",
   "metadata": {},
   "outputs": [
    {
     "data": {
      "text/plain": [
       "'T(n) = T(n-1) + c\\nT(n-1) = T(n-2) + c\\nT(n) = T(n-2) + 2c\\nT(n-2) = T(n-4) + 4c\\nT(n-k) = T(n-k) + kc\\nT(n) = T(1) + (n-1)c\\nT(n) = O(n)'"
      ]
     },
     "execution_count": 8,
     "metadata": {},
     "output_type": "execute_result"
    }
   ],
   "source": [
    "\"\"\"T(n) = T(n-1) + c\n",
    "T(n-1) = T(n-2) + c\n",
    "T(n) = T(n-2) + 2c\n",
    "T(n-2) = T(n-4) + 4c\n",
    "T(n-k) = T(n-k) + kc\n",
    "T(n) = T(1) + (n-1)c\n",
    "T(n) = O(n)\"\"\""
   ]
  },
  {
   "cell_type": "code",
   "execution_count": 9,
   "id": "995d454e-064f-4000-8ec4-3cc59e1d6d74",
   "metadata": {},
   "outputs": [],
   "source": [
    "#b. T(n) = 2T(n/2) + n"
   ]
  },
  {
   "cell_type": "code",
   "execution_count": 10,
   "id": "62d6e7c1-8be4-4fec-a3ac-c76eb571fdcb",
   "metadata": {},
   "outputs": [
    {
     "data": {
      "text/plain": [
       "'T(n) = 2T(n/2) + n  --------1\\nT(n/2) = 2T(n/4) + n/2 -------2\\nT(n/4) = 2T(n/8) + n/4--------3\\n#put equation 2 in 1\\nT(n) = 2**2T(n/2**2) + n+n -----4\\n#put eq. 4 in 3\\nT(n) = 2**2 T(n/2**2) + 2n\\nT(n) = 2**k T(n/2**k) + kn\\n\\nn = 2**k\\nk = log(n)\\nT(n) = n+nlog(n)\\nT(n) = O(nlogn)'"
      ]
     },
     "execution_count": 10,
     "metadata": {},
     "output_type": "execute_result"
    }
   ],
   "source": [
    "\"\"\"T(n) = 2T(n/2) + n  --------1\n",
    "T(n/2) = 2T(n/4) + n/2 -------2\n",
    "T(n/4) = 2T(n/8) + n/4--------3\n",
    "#put equation 2 in 1\n",
    "T(n) = 2**2T(n/2**2) + n+n -----4\n",
    "#put eq. 4 in 3\n",
    "T(n) = 2**2 T(n/2**2) + 2n\n",
    "T(n) = 2**k T(n/2**k) + kn\n",
    "\n",
    "n = 2**k\n",
    "k = log(n)\n",
    "T(n) = n+nlog(n)\n",
    "T(n) = O(nlogn)\"\"\"\n"
   ]
  },
  {
   "cell_type": "code",
   "execution_count": 11,
   "id": "6e1bce3d-9a94-4574-81aa-86a44a7830de",
   "metadata": {},
   "outputs": [],
   "source": [
    "#c. T(n) = 2T(n/2) + c"
   ]
  },
  {
   "cell_type": "code",
   "execution_count": 12,
   "id": "cd934caa-7f8d-4dd6-ab9d-3f1520298ea4",
   "metadata": {},
   "outputs": [
    {
     "data": {
      "text/plain": [
       "'T(n) = 2T(n/2) + c  --------1\\nT(n/2) = 2T(n/4) + c -------2\\nT(n/4) = 2T(n/8) + c--------3\\n#put equation 2 in 1\\nT(n) = 2**2T(n/2**2) + 3c -----4\\n#put eq. 4 in 3\\nT(n) = 2**4 T(n/2**4) + 7n\\nT(n) = 2**k T(n/2**k) + kn\\n\\nn = 2**k\\nk = log(n)\\nT(n)= n+log(n)'"
      ]
     },
     "execution_count": 12,
     "metadata": {},
     "output_type": "execute_result"
    }
   ],
   "source": [
    "\"\"\"T(n) = 2T(n/2) + c  --------1\n",
    "T(n/2) = 2T(n/4) + c -------2\n",
    "T(n/4) = 2T(n/8) + c--------3\n",
    "#put equation 2 in 1\n",
    "T(n) = 2**2T(n/2**2) + 3c -----4\n",
    "#put eq. 4 in 3\n",
    "T(n) = 2**4 T(n/2**4) + 7n\n",
    "T(n) = 2**k T(n/2**k) + kn\n",
    "\n",
    "n = 2**k\n",
    "k = log(n)\n",
    "T(n)= n+log(n)\"\"\"\n"
   ]
  },
  {
   "cell_type": "code",
   "execution_count": 13,
   "id": "f9166518-cf01-4a3d-a537-cc9fc336f6a1",
   "metadata": {},
   "outputs": [],
   "source": [
    "#d. T(n) = T(n/2) + c"
   ]
  },
  {
   "cell_type": "code",
   "execution_count": 14,
   "id": "53683c02-a24a-48bd-96e9-af887ceea4eb",
   "metadata": {},
   "outputs": [
    {
     "data": {
      "text/plain": [
       "'T(n) = T(n/2) + c  --------1\\nT(n/2) = T(n/4) + c -------2\\nT(n/4) = T(n/8) + c--------3\\n\\n#put eq. 4 in 3\\n\\nT(n) =  T(n/2**k) + kn\\n\\nn = 2**k\\nk = log(n)\\nT(n)= O(log(n))'"
      ]
     },
     "execution_count": 14,
     "metadata": {},
     "output_type": "execute_result"
    }
   ],
   "source": [
    "\"\"\"T(n) = T(n/2) + c  --------1\n",
    "T(n/2) = T(n/4) + c -------2\n",
    "T(n/4) = T(n/8) + c--------3\n",
    "\n",
    "#put eq. 4 in 3\n",
    "\n",
    "T(n) =  T(n/2**k) + kn\n",
    "\n",
    "n = 2**k\n",
    "k = log(n)\n",
    "T(n)= O(log(n))\"\"\"\n"
   ]
  },
  {
   "cell_type": "code",
   "execution_count": 15,
   "id": "45c38875-19a9-41c3-b030-20255c2f25bb",
   "metadata": {},
   "outputs": [],
   "source": [
    "#3. Given a rec%rrence relation, solve it %sing the rec%rsive tree approach:\n",
    "#a. T(n) = 2T(n-1) +1"
   ]
  },
  {
   "cell_type": "code",
   "execution_count": 1,
   "id": "939bd08c-3856-47bc-8ba3-e6b8b50cec8a",
   "metadata": {},
   "outputs": [
    {
     "data": {
      "text/plain": [
       "'T(n-1) = 2T((n-1)-1)-1\\nT(n-1) = 2T(n-2)-1 ….. (2)\\nSimilarly..\\nT(n-2) = 2T(n-3)-1 ….. (3)\\nT(n-3 = 2T(n-4)-1 ….. (4) , and so on\\n\\nNow Substitute:- equation (2), (3), (4) in equation (1)\\nT(n) = 2T(n-1)-1\\nT(n) = 2[2T(n-2)-1]-1 = 4T(n-2)-2–1 = 4T(n-2)-3\\nT(n) = 4[2T(n-3)-1]-3 = 8T(n-3)-4–3 = 8T(n-3)-7\\nT(n) = 8[2T(n-4)-1]-7 = 16T(n-4)-8–7 =16T(n-4)-15\\n\\nT(n) = 16T(n-4)-15 can be written as,\\n\\nT(n) =2^k T(n-k)-(2^k - 1)\\n\\nSince value of T(n-1) is reducing one by one then lets assume\\nn-k = 1 <=> n = k\\n\\nT(n) = 2^n T(1)-(2^n -1)\\nThen Time Complexity will be :\\n\\n= O(2^n * c - 2^n + 1)\\n\\n= O(2^n(c-1)+1)\\n\\n= O(2^n)'"
      ]
     },
     "execution_count": 1,
     "metadata": {},
     "output_type": "execute_result"
    }
   ],
   "source": [
    "\"\"\"T(n-1) = 2T((n-1)-1)-1\n",
    "T(n-1) = 2T(n-2)-1 ….. (2)\n",
    "Similarly..\n",
    "T(n-2) = 2T(n-3)-1 ….. (3)\n",
    "T(n-3 = 2T(n-4)-1 ….. (4) , and so on\n",
    "\n",
    "Now Substitute:- equation (2), (3), (4) in equation (1)\n",
    "T(n) = 2T(n-1)-1\n",
    "T(n) = 2[2T(n-2)-1]-1 = 4T(n-2)-2–1 = 4T(n-2)-3\n",
    "T(n) = 4[2T(n-3)-1]-3 = 8T(n-3)-4–3 = 8T(n-3)-7\n",
    "T(n) = 8[2T(n-4)-1]-7 = 16T(n-4)-8–7 =16T(n-4)-15\n",
    "\n",
    "T(n) = 16T(n-4)-15 can be written as,\n",
    "\n",
    "T(n) =2^k T(n-k)-(2^k - 1)\n",
    "\n",
    "Since value of T(n-1) is reducing one by one then lets assume\n",
    "n-k = 1 <=> n = k\n",
    "\n",
    "T(n) = 2^n T(1)-(2^n -1)\n",
    "Then Time Complexity will be :\n",
    "\n",
    "= O(2^n * c - 2^n + 1)\n",
    "\n",
    "= O(2^n(c-1)+1)\n",
    "\n",
    "= O(2^n)\"\"\""
   ]
  },
  {
   "cell_type": "code",
   "execution_count": null,
   "id": "c7e5bcfa-6dce-477b-9eab-6f9d1b257e0b",
   "metadata": {},
   "outputs": [],
   "source": []
  }
 ],
 "metadata": {
  "kernelspec": {
   "display_name": "Python 3 (ipykernel)",
   "language": "python",
   "name": "python3"
  },
  "language_info": {
   "codemirror_mode": {
    "name": "ipython",
    "version": 3
   },
   "file_extension": ".py",
   "mimetype": "text/x-python",
   "name": "python",
   "nbconvert_exporter": "python",
   "pygments_lexer": "ipython3",
   "version": "3.10.8"
  }
 },
 "nbformat": 4,
 "nbformat_minor": 5
}
